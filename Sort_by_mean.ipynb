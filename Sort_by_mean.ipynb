{
  "metadata": {
    "language_info": {
      "codemirror_mode": {
        "name": "python",
        "version": 3
      },
      "file_extension": ".py",
      "mimetype": "text/x-python",
      "name": "python",
      "nbconvert_exporter": "python",
      "pygments_lexer": "ipython3",
      "version": "3.8"
    },
    "kernelspec": {
      "name": "python",
      "display_name": "Python (Pyodide)",
      "language": "python"
    }
  },
  "nbformat_minor": 4,
  "nbformat": 4,
  "cells": [
    {
      "cell_type": "code",
      "source": "import pandas as pd\nimport functools",
      "metadata": {
        "trusted": true
      },
      "execution_count": 1,
      "outputs": []
    },
    {
      "cell_type": "code",
      "source": "def sort_dataframes_by_mean(data, column):\n\n  def compare(df1, df2):\n    if df1[column].mean() < df2[column].mean():\n      return -1\n    elif df1[column].mean() > df2[column].mean():\n      return 1\n    else:\n      if df1[column].max() < df2[column].max(): \n        return -1\n      elif df1[column].max() > df2[column].max(): \n        return 1\n      else:\n        return 0\n\n  compare_key = functools.cmp_to_key(compare)\n  sort_by_mean = sorted(data, key=compare_key)\n  return sort_by_mean",
      "metadata": {
        "trusted": true
      },
      "execution_count": 2,
      "outputs": []
    },
    {
      "cell_type": "code",
      "source": "data_1 = pd.DataFrame([\n    [2, 2, 3, 4],\n    [3, 6, 7, 9],\n    [5, 2, 3, 4],\n    [3, 2, 3, 4]\n], columns=[f\"Column_{idx}\" for idx in range(1, 5)])\ndata_1",
      "metadata": {
        "trusted": true
      },
      "execution_count": 3,
      "outputs": [
        {
          "execution_count": 3,
          "output_type": "execute_result",
          "data": {
            "text/plain": "   Column_1  Column_2  Column_3  Column_4\n0         2         2         3         4\n1         3         6         7         9\n2         5         2         3         4\n3         3         2         3         4",
            "text/html": "<div>\n<style scoped>\n    .dataframe tbody tr th:only-of-type {\n        vertical-align: middle;\n    }\n\n    .dataframe tbody tr th {\n        vertical-align: top;\n    }\n\n    .dataframe thead th {\n        text-align: right;\n    }\n</style>\n<table border=\"1\" class=\"dataframe\">\n  <thead>\n    <tr style=\"text-align: right;\">\n      <th></th>\n      <th>Column_1</th>\n      <th>Column_2</th>\n      <th>Column_3</th>\n      <th>Column_4</th>\n    </tr>\n  </thead>\n  <tbody>\n    <tr>\n      <th>0</th>\n      <td>2</td>\n      <td>2</td>\n      <td>3</td>\n      <td>4</td>\n    </tr>\n    <tr>\n      <th>1</th>\n      <td>3</td>\n      <td>6</td>\n      <td>7</td>\n      <td>9</td>\n    </tr>\n    <tr>\n      <th>2</th>\n      <td>5</td>\n      <td>2</td>\n      <td>3</td>\n      <td>4</td>\n    </tr>\n    <tr>\n      <th>3</th>\n      <td>3</td>\n      <td>2</td>\n      <td>3</td>\n      <td>4</td>\n    </tr>\n  </tbody>\n</table>\n</div>"
          },
          "metadata": {}
        }
      ]
    },
    {
      "cell_type": "code",
      "source": "data_2 = pd.DataFrame([\n    [2, 2, 3, 4],\n    [3, 6, 7, 9],\n    [5, 2, 3, 4],\n    [3, 2, 7, 4]\n], columns=[f\"Column_{idx}\" for idx in range(1, 5)])\ndata_2",
      "metadata": {
        "trusted": true
      },
      "execution_count": 4,
      "outputs": [
        {
          "execution_count": 4,
          "output_type": "execute_result",
          "data": {
            "text/plain": "   Column_1  Column_2  Column_3  Column_4\n0         2         2         3         4\n1         3         6         7         9\n2         5         2         3         4\n3         3         2         7         4",
            "text/html": "<div>\n<style scoped>\n    .dataframe tbody tr th:only-of-type {\n        vertical-align: middle;\n    }\n\n    .dataframe tbody tr th {\n        vertical-align: top;\n    }\n\n    .dataframe thead th {\n        text-align: right;\n    }\n</style>\n<table border=\"1\" class=\"dataframe\">\n  <thead>\n    <tr style=\"text-align: right;\">\n      <th></th>\n      <th>Column_1</th>\n      <th>Column_2</th>\n      <th>Column_3</th>\n      <th>Column_4</th>\n    </tr>\n  </thead>\n  <tbody>\n    <tr>\n      <th>0</th>\n      <td>2</td>\n      <td>2</td>\n      <td>3</td>\n      <td>4</td>\n    </tr>\n    <tr>\n      <th>1</th>\n      <td>3</td>\n      <td>6</td>\n      <td>7</td>\n      <td>9</td>\n    </tr>\n    <tr>\n      <th>2</th>\n      <td>5</td>\n      <td>2</td>\n      <td>3</td>\n      <td>4</td>\n    </tr>\n    <tr>\n      <th>3</th>\n      <td>3</td>\n      <td>2</td>\n      <td>7</td>\n      <td>4</td>\n    </tr>\n  </tbody>\n</table>\n</div>"
          },
          "metadata": {}
        }
      ]
    },
    {
      "cell_type": "code",
      "source": "data_3 = pd.DataFrame([\n    [2, 2, 3, 4],\n    [3, 6, 5, 9],\n    [5, 2, 3, 4],\n    [3, 2, 9, 4]\n], columns=[f\"Column_{idx}\" for idx in range(1, 5)])\ndata_3",
      "metadata": {
        "trusted": true
      },
      "execution_count": 5,
      "outputs": [
        {
          "execution_count": 5,
          "output_type": "execute_result",
          "data": {
            "text/plain": "   Column_1  Column_2  Column_3  Column_4\n0         2         2         3         4\n1         3         6         5         9\n2         5         2         3         4\n3         3         2         9         4",
            "text/html": "<div>\n<style scoped>\n    .dataframe tbody tr th:only-of-type {\n        vertical-align: middle;\n    }\n\n    .dataframe tbody tr th {\n        vertical-align: top;\n    }\n\n    .dataframe thead th {\n        text-align: right;\n    }\n</style>\n<table border=\"1\" class=\"dataframe\">\n  <thead>\n    <tr style=\"text-align: right;\">\n      <th></th>\n      <th>Column_1</th>\n      <th>Column_2</th>\n      <th>Column_3</th>\n      <th>Column_4</th>\n    </tr>\n  </thead>\n  <tbody>\n    <tr>\n      <th>0</th>\n      <td>2</td>\n      <td>2</td>\n      <td>3</td>\n      <td>4</td>\n    </tr>\n    <tr>\n      <th>1</th>\n      <td>3</td>\n      <td>6</td>\n      <td>5</td>\n      <td>9</td>\n    </tr>\n    <tr>\n      <th>2</th>\n      <td>5</td>\n      <td>2</td>\n      <td>3</td>\n      <td>4</td>\n    </tr>\n    <tr>\n      <th>3</th>\n      <td>3</td>\n      <td>2</td>\n      <td>9</td>\n      <td>4</td>\n    </tr>\n  </tbody>\n</table>\n</div>"
          },
          "metadata": {}
        }
      ]
    },
    {
      "cell_type": "code",
      "source": "sort_dataframes_by_mean([data_3, data_2, data_1], column=\"Column_3\")",
      "metadata": {
        "trusted": true
      },
      "execution_count": 6,
      "outputs": [
        {
          "execution_count": 6,
          "output_type": "execute_result",
          "data": {
            "text/plain": "[   Column_1  Column_2  Column_3  Column_4\n 0         2         2         3         4\n 1         3         6         7         9\n 2         5         2         3         4\n 3         3         2         3         4,\n    Column_1  Column_2  Column_3  Column_4\n 0         2         2         3         4\n 1         3         6         7         9\n 2         5         2         3         4\n 3         3         2         7         4,\n    Column_1  Column_2  Column_3  Column_4\n 0         2         2         3         4\n 1         3         6         5         9\n 2         5         2         3         4\n 3         3         2         9         4]"
          },
          "metadata": {}
        }
      ]
    },
    {
      "cell_type": "code",
      "source": "",
      "metadata": {},
      "execution_count": null,
      "outputs": []
    }
  ]
}